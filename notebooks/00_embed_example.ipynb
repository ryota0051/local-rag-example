{
 "cells": [
  {
   "cell_type": "code",
   "execution_count": 1,
   "id": "8bdd1656-591a-4512-b971-c04e290ef03d",
   "metadata": {},
   "outputs": [],
   "source": [
    "import re\n",
    "\n",
    "import numpy as np\n",
    "from langchain_openai import ChatOpenAI\n",
    "from langchain_community.embeddings import InfinityEmbeddings\n",
    "from langchain_core.output_parsers import StrOutputParser\n",
    "from langchain_core.messages import HumanMessage"
   ]
  },
  {
   "cell_type": "markdown",
   "id": "b50e8fe9-a7f0-4f4d-9637-c40ad170c1a9",
   "metadata": {},
   "source": [
    "## 定数定義"
   ]
  },
  {
   "cell_type": "code",
   "execution_count": 2,
   "id": "0135c9fc-fa4a-41b4-9717-2e977a6904af",
   "metadata": {},
   "outputs": [],
   "source": [
    "EMBEDDING_MODEL_PATH = 'sbintuitions/sarashina-embedding-v2-1b'"
   ]
  },
  {
   "cell_type": "markdown",
   "id": "3fab0cac-846c-4aa4-813b-998c05c181c4",
   "metadata": {},
   "source": [
    "## Embedding model"
   ]
  },
  {
   "cell_type": "code",
   "execution_count": 3,
   "id": "ec185f08-4b62-440e-b90b-f83ed1514de1",
   "metadata": {},
   "outputs": [],
   "source": [
    "def cosine_similarity(a, b):\n",
    "    return np.dot(a, b) / (np.linalg.norm(a) * np.linalg.norm(b))\n",
    "\n",
    "\n",
    "def show_similar_words(\n",
    "    embed_model: InfinityEmbeddings,\n",
    "    documents: list[str],\n",
    "    query: str,\n",
    "):\n",
    "    doc_embeddings = embed_model.embed_documents(documents)\n",
    "    query_embedding = np.array(embed_model.embed_query(query))\n",
    "\n",
    "    # 類似度の計算\n",
    "    similarities = []\n",
    "    for i, doc_emb in enumerate(doc_embeddings):\n",
    "        sim = cosine_similarity(query_embedding, doc_emb)\n",
    "        similarities.append((i, sim, documents[i][:50] + \"...\"))\n",
    "\n",
    "    # 類似度順にソート\n",
    "    similarities.sort(key=lambda x: x[1], reverse=True)\n",
    "\n",
    "    print(f'query: {query}')\n",
    "    print(\"検索結果（類似度順）:\")\n",
    "    for rank, (idx, sim, text) in enumerate(similarities, 1):\n",
    "        print(f\"{rank}. 類似度: {sim:.4f} - {text}\")"
   ]
  },
  {
   "cell_type": "code",
   "execution_count": 4,
   "id": "6f9161cc-eba5-41f0-98fa-c7d6289b32f9",
   "metadata": {},
   "outputs": [],
   "source": [
    "from openai import OpenAI\n",
    "import json\n",
    "client = OpenAI(\n",
    "    base_url='http://proxy',\n",
    "    api_key='EMPTY',\n",
    ")\n",
    "\n",
    "response = client.embeddings.create(\n",
    "    input=\"task: クエリを与えるので、与えられたWeb検索クエリに答える関連文章を検索してください。\\nquery: Sarashinaのテキスト埋め込みモデルはありますか?\",\n",
    "    model=EMBEDDING_MODEL_PATH\n",
    ")\n",
    "# json.loads(response.to_json())"
   ]
  },
  {
   "cell_type": "code",
   "execution_count": 5,
   "id": "9009e745-ad46-42ed-a5eb-3eec96f9ffee",
   "metadata": {},
   "outputs": [],
   "source": [
    "embed = InfinityEmbeddings(\n",
    "    model=EMBEDDING_MODEL_PATH,\n",
    "    infinity_api_url='http://proxy',\n",
    ")"
   ]
  },
  {
   "cell_type": "markdown",
   "id": "5f07fd7c-2744-418f-a00d-b81cd3a30625",
   "metadata": {},
   "source": [
    "### 単純なベクトル化"
   ]
  },
  {
   "cell_type": "code",
   "execution_count": 6,
   "id": "cb360f2c-a38d-4ba0-83fe-530f4efa01f8",
   "metadata": {},
   "outputs": [
    {
     "data": {
      "text/plain": [
       "array([-0.00503895,  0.005185  , -0.00942064, ...,  0.01431353,\n",
       "       -0.00119584,  0.01358325], shape=(1792,))"
      ]
     },
     "execution_count": 6,
     "metadata": {},
     "output_type": "execute_result"
    }
   ],
   "source": [
    "# 単純にベクトル化してみる\n",
    "vector = np.array(embed.embed_query('task: クエリを与えるので、与えられたWeb検索クエリに答える関連文章を検索してください。\\nquery: Sarashinaのテキスト埋め込みモデルはありますか?'))\n",
    "vector"
   ]
  },
  {
   "cell_type": "code",
   "execution_count": 7,
   "id": "5f0cef42-3b30-4d4d-9e06-a29946f591b2",
   "metadata": {},
   "outputs": [
    {
     "data": {
      "text/plain": [
       "(1792,)"
      ]
     },
     "execution_count": 7,
     "metadata": {},
     "output_type": "execute_result"
    }
   ],
   "source": [
    "# 単純にベクトル化してみる\n",
    "vector = np.array(embed.embed_query('私は、犬と遊ぶのが好きです。'))\n",
    "vector.shape"
   ]
  },
  {
   "cell_type": "markdown",
   "id": "116297de-8586-4353-996e-16ea506e5853",
   "metadata": {},
   "source": [
    "### 少し難易度が高い場合"
   ]
  },
  {
   "cell_type": "code",
   "execution_count": 14,
   "id": "0652d5cc-7199-4f96-8bdd-e31ba495e8b9",
   "metadata": {},
   "outputs": [
    {
     "name": "stdout",
     "output_type": "stream",
     "text": [
      "query: task: クエリに関連した文章を検索してください \n",
      " query: 画像分類に有効なモデルは？\n",
      "検索結果（類似度順）:\n",
      "1. 類似度: 0.8514 - text: 画像認識には、ResNetが有効...\n",
      "2. 類似度: 0.8301 - text: CNNやViTは画像をクラス分類する技術です。...\n",
      "3. 類似度: 0.8184 - text: SwinTransformerは画像分類でかなり性能が高い...\n",
      "4. 類似度: 0.8156 - text: 機械学習には、RandomForestやSVMなど様々なモデルがある...\n",
      "5. 類似度: 0.8106 - text: yoloは物体検出を行うためのモデルである...\n",
      "6. 類似度: 0.8031 - text: 音声認識には、1DのCNNが有効...\n",
      "7. 類似度: 0.7981 - text: 音声認識には、LSTMが有効...\n",
      "8. 類似度: 0.7257 - text: データベースは情報を効率的に管理するシステムです。...\n",
      "CPU times: user 7.39 ms, sys: 0 ns, total: 7.39 ms\n",
      "Wall time: 225 ms\n"
     ]
    }
   ],
   "source": [
    "%%time\n",
    "documents = [\n",
    "    \"text: 機械学習には、RandomForestやSVMなど様々なモデルがある\",\n",
    "    \"text: CNNやViTは画像をクラス分類する技術です。\",\n",
    "    \"text: 画像認識には、ResNetが有効\",\n",
    "    \"text: yoloは物体検出を行うためのモデルである\",\n",
    "    \"text: SwinTransformerは画像分類でかなり性能が高い\",\n",
    "    \"text: 音声認識には、1DのCNNが有効\",\n",
    "    \"text: 音声認識には、LSTMが有効\",\n",
    "    \"text: データベースは情報を効率的に管理するシステムです。\"\n",
    "]\n",
    "query = \"task: クエリに関連した文章を検索してください \\n query: 画像分類に有効なモデルは？\"\n",
    "\n",
    "show_similar_words(embed, documents, query)"
   ]
  },
  {
   "cell_type": "code",
   "execution_count": 13,
   "id": "dc5f4ea1-5f9b-4144-99fa-d0e498789025",
   "metadata": {},
   "outputs": [
    {
     "name": "stdout",
     "output_type": "stream",
     "text": [
      "query: task: クエリに関連した文章を検索してください \n",
      " query: アレルギーを持つ家族がいる場合におすすめのペットは？\n",
      "検索結果（類似度順）:\n",
      "1. 類似度: 0.8554 - text: トイプードルはしつけがしやすく、毛が抜けないのでアレルギーを持つ家族にもおすすめ...\n",
      "2. 類似度: 0.8441 - text: 柴犬は可愛いが毛がよく抜けるのでアレルギーを持つ家族にはおすすめ出来ない...\n",
      "3. 類似度: 0.7980 - text: ゴールデンレトリバーは温厚で飼いやすい...\n",
      "4. 類似度: 0.7777 - text: ライオンを一般家庭で飼うのは難しい...\n",
      "5. 類似度: 0.7646 - text: チワワは、小さくて可愛い...\n",
      "6. 類似度: 0.7502 - text: ドーベルマンはしつけが難しい...\n",
      "7. 類似度: 0.7116 - text: ビットブルはとても危険...\n",
      "CPU times: user 3.75 ms, sys: 3.69 ms, total: 7.44 ms\n",
      "Wall time: 299 ms\n"
     ]
    }
   ],
   "source": [
    "%%time\n",
    "documents = [\n",
    "    \"text: トイプードルはしつけがしやすく、毛が抜けないのでアレルギーを持つ家族にもおすすめ\",\n",
    "    \"text: 柴犬は可愛いが毛がよく抜けるのでアレルギーを持つ家族にはおすすめ出来ない\",\n",
    "    \"text: ドーベルマンはしつけが難しい\",\n",
    "    \"text: チワワは、小さくて可愛い\",\n",
    "    \"text: ビットブルはとても危険\",\n",
    "    \"text: ゴールデンレトリバーは温厚で飼いやすい\",\n",
    "    \"text: ライオンを一般家庭で飼うのは難しい\"\n",
    "]\n",
    "query = \"task: クエリに関連した文章を検索してください \\n query: アレルギーを持つ家族がいる場合におすすめのペットは？\"\n",
    "\n",
    "show_similar_words(embed, documents, query)"
   ]
  },
  {
   "cell_type": "code",
   "execution_count": 12,
   "id": "394f36b1-dc59-45f5-906f-a7e5683a8e27",
   "metadata": {},
   "outputs": [
    {
     "name": "stdout",
     "output_type": "stream",
     "text": [
      "query: task: クエリを与えるので、与えられたWeb検索クエリに答える関連文章を検索してください。\n",
      "query: Sarashinaのテキスト埋め込みモデルはありますか?\n",
      "検索結果（類似度順）:\n",
      "1. 類似度: 0.8777 - text: サラシナエンベディングは日本語言語モデルをベースにした日本語埋め込みモデルです。...\n",
      "2. 類似度: 0.8648 - text: Sarashinaは、SB Intuitionsが開発した日本語大規模言語モデルです。こ...\n",
      "3. 類似度: 0.7398 - text: 更級日記は、平安時代中期に菅原孝標女によって書かれた回想録です。...\n"
     ]
    }
   ],
   "source": [
    "query = 'task: クエリを与えるので、与えられたWeb検索クエリに答える関連文章を検索してください。\\nquery: Sarashinaのテキスト埋め込みモデルはありますか?'\n",
    "documents = [\n",
    "      'text: 更級日記は、平安時代中期に菅原孝標女によって書かれた回想録です。',\n",
    "      'text: Sarashinaは、SB Intuitionsが開発した日本語大規模言語モデルです。これまでに7B, 13B, 70B, 8x70Bのモデルが公開されています。',\n",
    "      'text: サラシナエンベディングは日本語言語モデルをベースにした日本語埋め込みモデルです。'\n",
    "]\n",
    "show_similar_words(embed, documents, query)"
   ]
  },
  {
   "cell_type": "code",
   "execution_count": null,
   "id": "dcc52215-f4c2-4951-8fc2-9524dd61f00e",
   "metadata": {},
   "outputs": [],
   "source": []
  }
 ],
 "metadata": {
  "kernelspec": {
   "display_name": "Python 3 (ipykernel)",
   "language": "python",
   "name": "python3"
  },
  "language_info": {
   "codemirror_mode": {
    "name": "ipython",
    "version": 3
   },
   "file_extension": ".py",
   "mimetype": "text/x-python",
   "name": "python",
   "nbconvert_exporter": "python",
   "pygments_lexer": "ipython3",
   "version": "3.12.11"
  }
 },
 "nbformat": 4,
 "nbformat_minor": 5
}
